{
 "cells": [
  {
   "cell_type": "markdown",
   "metadata": {},
   "source": [
    "# Catanal Numbers\n",
    "\n",
    "$ C_n  = \\sum_{i=1} C_i*C_{n-i}  $\n",
    "\n",
    "or \n",
    "$$ C_n = \\frac{1}{n+1}   {2N\\choose k} $$\n",
    "\n",
    "1. Exponential Time Complexity"
   ]
  },
  {
   "cell_type": "code",
   "execution_count": 11,
   "metadata": {},
   "outputs": [],
   "source": [
    "def catanal(n):\n",
    "    if n<=1:\n",
    "        return 1\n",
    "    else:\n",
    "        res = 0\n",
    "        for i in range(n):\n",
    "            res += catanal(i) * catanal(n-i-1)\n",
    "    return res"
   ]
  },
  {
   "cell_type": "code",
   "execution_count": 14,
   "metadata": {},
   "outputs": [
    {
     "name": "stdout",
     "output_type": "stream",
     "text": [
      "1\n",
      "1\n",
      "2\n",
      "5\n",
      "14\n",
      "42\n",
      "132\n",
      "429\n",
      "1430\n",
      "4862\n"
     ]
    }
   ],
   "source": [
    "for i in range(10):\n",
    "    print(catanal(i))"
   ]
  },
  {
   "cell_type": "code",
   "execution_count": 27,
   "metadata": {},
   "outputs": [],
   "source": [
    "def catn(n):\n",
    "    if (n==0 or n==1):\n",
    "        return 1\n",
    "    else:\n",
    "        \n",
    "        catn = [0]*(n+1)\n",
    "        catn[0] = catn[1] = 1\n",
    "        \n",
    "        for i in range(2,n+1):\n",
    "            catn[i] = 0\n",
    "            for j in range(i):\n",
    "                catn[i]  = catn[i] + catn[j]*catn[i-j-1]\n",
    "            print(\"i\",catn[i])\n",
    "    return catn[n]"
   ]
  },
  {
   "cell_type": "code",
   "execution_count": 36,
   "metadata": {},
   "outputs": [
    {
     "name": "stdout",
     "output_type": "stream",
     "text": [
      "i 2\n",
      "i 5\n",
      "i 14\n",
      "i 42\n",
      "i 132\n",
      "i 429\n",
      "i 1430\n",
      "i 4862\n",
      "i 16796\n",
      "i 58786\n",
      "i 208012\n",
      "i 742900\n",
      "i 2674440\n",
      "i 9694845\n"
     ]
    },
    {
     "data": {
      "text/plain": [
       "9694845"
      ]
     },
     "execution_count": 36,
     "metadata": {},
     "output_type": "execute_result"
    }
   ],
   "source": [
    "catn(15)"
   ]
  },
  {
   "cell_type": "code",
   "execution_count": 34,
   "metadata": {},
   "outputs": [],
   "source": [
    "def binom(n,k):\n",
    "    res =1\n",
    "    if k>n-k:\n",
    "        k= n-k\n",
    "    for i in range(k):\n",
    "        res *= (n-i)\n",
    "        res /= i+1\n",
    "    return res"
   ]
  },
  {
   "cell_type": "code",
   "execution_count": 37,
   "metadata": {},
   "outputs": [
    {
     "data": {
      "text/plain": [
       "9694845.0"
      ]
     },
     "execution_count": 37,
     "metadata": {},
     "output_type": "execute_result"
    }
   ],
   "source": [
    "n= 15\n",
    "binom(2*n,n)/(n+1)"
   ]
  },
  {
   "cell_type": "code",
   "execution_count": null,
   "metadata": {},
   "outputs": [],
   "source": []
  }
 ],
 "metadata": {
  "kernelspec": {
   "display_name": "Python 3",
   "language": "python",
   "name": "python3"
  },
  "language_info": {
   "codemirror_mode": {
    "name": "ipython",
    "version": 3
   },
   "file_extension": ".py",
   "mimetype": "text/x-python",
   "name": "python",
   "nbconvert_exporter": "python",
   "pygments_lexer": "ipython3",
   "version": "3.6.7"
  }
 },
 "nbformat": 4,
 "nbformat_minor": 2
}
