{
 "cells": [
  {
   "cell_type": "code",
   "execution_count": 12,
   "metadata": {},
   "outputs": [],
   "source": [
    "#fibbonaci no\n",
    "\n",
    "import numpy as np"
   ]
  },
  {
   "cell_type": "code",
   "execution_count": 1,
   "metadata": {},
   "outputs": [],
   "source": [
    "def fib(n):\n",
    "    if n==1:\n",
    "        return 1\n",
    "    elif n==0:\n",
    "        return 0\n",
    "    else:\n",
    "        return fib(n-1) + fib(n-2)"
   ]
  },
  {
   "cell_type": "code",
   "execution_count": null,
   "metadata": {},
   "outputs": [],
   "source": []
  },
  {
   "cell_type": "code",
   "execution_count": null,
   "metadata": {},
   "outputs": [],
   "source": []
  },
  {
   "cell_type": "code",
   "execution_count": 104,
   "metadata": {},
   "outputs": [],
   "source": [
    "fib_array = [-1]*102\n",
    "fib_array[0] =0\n",
    "fib_array[1] =1\n",
    "def fib(n):\n",
    "    for i in range(2,n+1):\n",
    "        fib_array[i] = fib_array[i-1] +fib_array[i-2]\n",
    "\n",
    "fib(101)\n",
    "\n",
    "    \n",
    "    "
   ]
  },
  {
   "cell_type": "code",
   "execution_count": 106,
   "metadata": {},
   "outputs": [
    {
     "data": {
      "text/plain": [
       "573147844013817084101"
      ]
     },
     "execution_count": 106,
     "metadata": {},
     "output_type": "execute_result"
    }
   ],
   "source": [
    "fib_array[101]"
   ]
  },
  {
   "cell_type": "markdown",
   "metadata": {},
   "source": [
    "#### space optimization"
   ]
  },
  {
   "cell_type": "code",
   "execution_count": 11,
   "metadata": {},
   "outputs": [
    {
     "data": {
      "text/plain": [
       "354224848179261915075"
      ]
     },
     "execution_count": 11,
     "metadata": {},
     "output_type": "execute_result"
    }
   ],
   "source": [
    "\n",
    "\n",
    "def fib(n):\n",
    "    a=0\n",
    "    b=1\n",
    "\n",
    "    for i in range(2,n+1):\n",
    "        c = a+b\n",
    "        a=b\n",
    "        b=c\n",
    "    return c    \n",
    "fib(100)\n",
    "\n",
    "    \n",
    "    "
   ]
  },
  {
   "cell_type": "code",
   "execution_count": 112,
   "metadata": {},
   "outputs": [],
   "source": [
    "a = np.array([[1,1],[1,0]],dtype=np.float128)\n",
    "b = np.array([[1,1],[1,0]],dtype=np.float128)"
   ]
  },
  {
   "cell_type": "code",
   "execution_count": 113,
   "metadata": {},
   "outputs": [],
   "source": [
    "for i in range(1,101):\n",
    "    b = a@b\n"
   ]
  },
  {
   "cell_type": "code",
   "execution_count": 114,
   "metadata": {},
   "outputs": [
    {
     "data": {
      "text/plain": [
       "array([[9.27372692e+20, 5.73147844e+20],\n",
       "       [5.73147844e+20, 3.54224848e+20]], dtype=float128)"
      ]
     },
     "execution_count": 114,
     "metadata": {},
     "output_type": "execute_result"
    }
   ],
   "source": [
    "b"
   ]
  },
  {
   "cell_type": "code",
   "execution_count": null,
   "metadata": {},
   "outputs": [],
   "source": []
  },
  {
   "cell_type": "code",
   "execution_count": 116,
   "metadata": {},
   "outputs": [
    {
     "name": "stdout",
     "output_type": "stream",
     "text": [
      "354224848179261915075\n"
     ]
    }
   ],
   "source": [
    "MAX = 1000\n",
    "  \n",
    "# Create an array for memoization \n",
    "f = [0] * MAX\n",
    "  \n",
    "# Returns n'th fuibonacci number using table f[] \n",
    "def fib(n) : \n",
    "    # Base cases \n",
    "    if (n == 0) : \n",
    "        return 0\n",
    "    if (n == 1 or n == 2) : \n",
    "        f[n] = 1\n",
    "        return (f[n]) \n",
    "  \n",
    "    # If fib(n) is already computed \n",
    "    if (f[n]) : \n",
    "        return f[n] \n",
    "  \n",
    "    if( n & 1) : \n",
    "        k = (n + 1) // 2\n",
    "    else :  \n",
    "        k = n // 2\n",
    "  \n",
    "    # Applyting above formula [Note value n&1 is 1 \n",
    "    # if n is odd, else 0. \n",
    "    if((n & 1) ) : \n",
    "        f[n] = (fib(k) * fib(k) + fib(k-1) * fib(k-1)) \n",
    "    else : \n",
    "        f[n] = (2*fib(k-1) + fib(k))*fib(k) \n",
    "  \n",
    "    return f[n] \n",
    "  \n",
    "  \n",
    "# Driver code \n",
    "n = 9\n",
    "print(fib(100)) \n",
    "  \n",
    "  "
   ]
  },
  {
   "cell_type": "code",
   "execution_count": null,
   "metadata": {},
   "outputs": [],
   "source": []
  },
  {
   "cell_type": "code",
   "execution_count": null,
   "metadata": {},
   "outputs": [],
   "source": []
  },
  {
   "cell_type": "code",
   "execution_count": null,
   "metadata": {},
   "outputs": [],
   "source": []
  }
 ],
 "metadata": {
  "kernelspec": {
   "display_name": "Python 3",
   "language": "python",
   "name": "python3"
  },
  "language_info": {
   "codemirror_mode": {
    "name": "ipython",
    "version": 3
   },
   "file_extension": ".py",
   "mimetype": "text/x-python",
   "name": "python",
   "nbconvert_exporter": "python",
   "pygments_lexer": "ipython3",
   "version": "3.6.7"
  }
 },
 "nbformat": 4,
 "nbformat_minor": 2
}
