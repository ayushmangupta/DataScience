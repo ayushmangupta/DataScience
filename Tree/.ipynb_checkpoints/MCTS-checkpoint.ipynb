{
 "cells": [
  {
   "cell_type": "code",
   "execution_count": 1,
   "metadata": {},
   "outputs": [],
   "source": [
    "from collections import defaultdict"
   ]
  },
  {
   "cell_type": "code",
   "execution_count": 2,
   "metadata": {},
   "outputs": [],
   "source": [
    "class Graph:\n",
    "    \n",
    "    def __init__(self):\n",
    "        self.graph = defaultdict(list)\n",
    "        \n",
    "    def add_edge(self,u,v):\n",
    "        self.graph[u].append(v)\n",
    "    \n",
    "    \n",
    "    def DFS_Util(self,v,visited):\n",
    "        \n",
    "        \n",
    "        visited[v]  = True\n",
    "        for i in self.graph[v]:\n",
    "            if visited[i] == False:\n",
    "                self.DFS_Util(i,visited)\n",
    "        \n",
    "    \n",
    "    \n",
    "    def DFS(self,v):\n",
    "        \n",
    "        visited = [False]*len(self.graph)\n",
    "        self.DFS_Util(v,visited)\n",
    "        \n",
    "        "
   ]
  },
  {
   "cell_type": "code",
   "execution_count": 15,
   "metadata": {},
   "outputs": [],
   "source": [
    "g = Graph()\n",
    "g.add_edge(0,1)\n",
    "g.add_edge(0,2)\n",
    "g.add_edge(1,3)\n",
    "g.add_edge(2,4)\n",
    "g.add_edge(3,4)"
   ]
  },
  {
   "cell_type": "code",
   "execution_count": null,
   "metadata": {},
   "outputs": [],
   "source": [
    "len(g.graph)"
   ]
  },
  {
   "cell_type": "code",
   "execution_count": null,
   "metadata": {},
   "outputs": [],
   "source": []
  },
  {
   "cell_type": "code",
   "execution_count": null,
   "metadata": {},
   "outputs": [],
   "source": []
  }
 ],
 "metadata": {
  "kernelspec": {
   "display_name": "Python 3",
   "language": "python",
   "name": "python3"
  },
  "language_info": {
   "codemirror_mode": {
    "name": "ipython",
    "version": 3
   },
   "file_extension": ".py",
   "mimetype": "text/x-python",
   "name": "python",
   "nbconvert_exporter": "python",
   "pygments_lexer": "ipython3",
   "version": "3.6.7"
  }
 },
 "nbformat": 4,
 "nbformat_minor": 2
}
