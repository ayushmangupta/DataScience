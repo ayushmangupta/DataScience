{
 "cells": [
  {
   "cell_type": "markdown",
   "metadata": {},
   "source": [
    "# Journal "
   ]
  },
  {
   "cell_type": "markdown",
   "metadata": {},
   "source": [
    "#### Date 29/05/2019\n",
    "\n",
    "- Paper: Causal Confusion in Imitation Learning\n",
    "- Reparameterization trick\n",
    "    - Variational Autoencoder\n",
    "- Gumbel Softmax Trick\n",
    "- Paper: Markov Chain Monte Carlo and Variational Inference: Bridging the Gap\n",
    "- Variational Inference [video](https://www.youtube.com/watch?v=uKxtmkfeuxg&list=PLdk2fd27CQzSd1sQ3kBYL4vtv6GjXvPsE&index=2)\n",
    "    - Information Theory\n",
    "        - Information Entropy\n",
    "        - Differential Entropy\n",
    "    - KL Divergence\n",
    "    - Graphical Model\n",
    "- Metropolis Hasting\n",
    "- Laplace Approximation\n",
    "    "
   ]
  },
  {
   "cell_type": "markdown",
   "metadata": {},
   "source": [
    "#### Reparameterization trick\n",
    "we need the reparameterization trick in order to backpropagate through a random node.\n",
    "\n",
    "Intuitively, in its original form, VAEs sample from a random node z which is approximated by the parametric model $q(z∣ϕ,x)$ of the true posterior. Backprop cannot flow through a random node.\n",
    "\n",
    "Introducing a new parameter ϵ allows us to reparameterize z in a way that allows backprop to flow through the deterministic nodes\n",
    "![alt text](images/TzX3I.png \"Title\")"
   ]
  },
  {
   "cell_type": "code",
   "execution_count": null,
   "metadata": {},
   "outputs": [],
   "source": []
  }
 ],
 "metadata": {
  "kernelspec": {
   "display_name": "Python 3",
   "language": "python",
   "name": "python3"
  },
  "language_info": {
   "codemirror_mode": {
    "name": "ipython",
    "version": 3
   },
   "file_extension": ".py",
   "mimetype": "text/x-python",
   "name": "python",
   "nbconvert_exporter": "python",
   "pygments_lexer": "ipython3",
   "version": "3.6.7"
  }
 },
 "nbformat": 4,
 "nbformat_minor": 2
}
