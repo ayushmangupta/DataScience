{
 "cells": [
  {
   "cell_type": "markdown",
   "metadata": {},
   "source": [
    "## Variational AutoEncoder\n",
    "### Application\n",
    "- collaborative filtering \n",
    "- image compression\n",
    "- reinforcement learning\n",
    "- generation of music and sketches.\n",
    "\n",
    "\n",
    "#### To train this objective, we maximize the ELBO (Evidence Lower BOund) objective:\n",
    "$$ ELBO(x) = \\int dzq(z|x)log p(x|z) + \\int q(z|x)log\\frac{q(z|x)}{p(z)} $$\n",
    "\n",
    "Where the three probability density functions are:\n",
    "\n",
    "- $p(z)$ - Prior on the latent representation z\n",
    "- $p(z|x)$ -  the variational encoder\n",
    "- $p(x|z)$ -  the decoder,  how likely is the image x given the latent representation z."
   ]
  },
  {
   "cell_type": "code",
   "execution_count": 1,
   "metadata": {},
   "outputs": [
    {
     "name": "stdout",
     "output_type": "stream",
     "text": [
      "\n",
      "WARNING: The TensorFlow contrib module will not be included in TensorFlow 2.0.\n",
      "For more information, please see:\n",
      "  * https://github.com/tensorflow/community/blob/master/rfcs/20180907-contrib-sunset.md\n",
      "  * https://github.com/tensorflow/addons\n",
      "If you depend on functionality not listed there, please file an issue.\n",
      "\n"
     ]
    }
   ],
   "source": [
    "import tensorflow as tf\n",
    "import tensorflow.keras as tfk\n",
    "import tensorflow.keras.layers as tfkl\n",
    "import tensorflow_probability as tfp\n",
    "from tensorflow_probability import distributions as tfd\n",
    "from tensorflow_probability import layers as tfpl\n",
    "\n",
    "tf.enable_eager_execution()"
   ]
  },
  {
   "cell_type": "code",
   "execution_count": 30,
   "metadata": {},
   "outputs": [],
   "source": [
    "input_shape = (28,28,1)\n",
    "encoded_size = 16\n",
    "base_depth = 32\n",
    "\n",
    "prior = tfd.Independent(tfd.Normal(loc=tf.zeros(encoded_size),scale=1),reinterpreted_batch_ndims=1)"
   ]
  },
  {
   "cell_type": "code",
   "execution_count": 31,
   "metadata": {},
   "outputs": [
    {
     "name": "stdout",
     "output_type": "stream",
     "text": [
      "WARNING:tensorflow:From /home/quantiphi/.local/lib/python3.6/site-packages/tensorflow/python/ops/resource_variable_ops.py:642: colocate_with (from tensorflow.python.framework.ops) is deprecated and will be removed in a future version.\n",
      "Instructions for updating:\n",
      "Colocations handled automatically by placer.\n"
     ]
    }
   ],
   "source": [
    "encoder = tfk.Sequential([\n",
    "    tfkl.InputLayer(input_shape = input_shape),\n",
    "    tfkl.Lambda(lambda x: tf.cast(x,tf.float32) - 0.5),\n",
    "    tfkl.Conv2D(base_depth, 5,strides=1, padding='same',activation=tf.nn.leaky_relu),\n",
    "    tfkl.Conv2D(2*base_depth, 5,strides=2, padding='same',activation=tf.nn.leaky_relu),\n",
    "    tfkl.Conv2D(2*base_depth, 5,strides=1, padding='same',activation=tf.nn.leaky_relu),\n",
    "    tfkl.Conv2D(4*encoded_size, 5,strides=2, padding='same',activation=tf.nn.leaky_relu),\n",
    "    tfkl.Conv2D(base_depth, 7,strides=1, padding='valid',activation=tf.nn.leaky_relu),\n",
    "    tfkl.Flatten(),\n",
    "    tfkl.Dense()\n",
    "])\n",
    "\n",
    "\n",
    "\n",
    "#decoder = "
   ]
  },
  {
   "cell_type": "code",
   "execution_count": null,
   "metadata": {},
   "outputs": [],
   "source": [
    "tfpl.MultivariateNormalTriL()"
   ]
  },
  {
   "cell_type": "code",
   "execution_count": null,
   "metadata": {},
   "outputs": [],
   "source": [
    "vae = tfk.Model()"
   ]
  }
 ],
 "metadata": {
  "kernelspec": {
   "display_name": "Python 3",
   "language": "python",
   "name": "python3"
  },
  "language_info": {
   "codemirror_mode": {
    "name": "ipython",
    "version": 3
   },
   "file_extension": ".py",
   "mimetype": "text/x-python",
   "name": "python",
   "nbconvert_exporter": "python",
   "pygments_lexer": "ipython3",
   "version": "3.6.7"
  }
 },
 "nbformat": 4,
 "nbformat_minor": 2
}
