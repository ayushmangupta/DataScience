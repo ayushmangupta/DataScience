{
 "cells": [
  {
   "cell_type": "markdown",
   "metadata": {},
   "source": [
    "## Variational AutoEncoder\n",
    "### Application\n",
    "- collaborative filtering \n",
    "- image compression\n",
    "- reinforcement learning\n",
    "- generation of music and sketches.\n",
    "\n",
    "\n",
    "#### To train this objective, we maximize the ELBO (Evidence Lower BOund) objective:\n",
    "$$ ELBO(x) = \\int dzq(z|x)log p(x|z) + \\int q(z|x)log\\frac{q(z|x)}{p(z)} $$\n",
    "\n",
    "Where the three probability density functions are:\n",
    "\n",
    "- $p(z)$ - Prior on the latent representation z\n",
    "- $p(z|x)$ -  the variational encoder\n",
    "- $p(x|z)$ -  the decoder,  how likely is the image x given the latent representation z."
   ]
  },
  {
   "cell_type": "code",
   "execution_count": null,
   "metadata": {},
   "outputs": [],
   "source": []
  }
 ],
 "metadata": {
  "kernelspec": {
   "display_name": "Python 3",
   "language": "python",
   "name": "python3"
  },
  "language_info": {
   "codemirror_mode": {
    "name": "ipython",
    "version": 3
   },
   "file_extension": ".py",
   "mimetype": "text/x-python",
   "name": "python",
   "nbconvert_exporter": "python",
   "pygments_lexer": "ipython3",
   "version": "3.6.7"
  }
 },
 "nbformat": 4,
 "nbformat_minor": 2
}
