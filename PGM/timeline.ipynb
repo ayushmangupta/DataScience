{
 "cells": [
  {
   "cell_type": "code",
   "execution_count": 1,
   "metadata": {
    "collapsed": false
   },
   "outputs": [],
   "source": [
    "%matplotlib inline"
   ]
  },
  {
   "cell_type": "markdown",
   "metadata": {},
   "source": [
    "\n",
    "===============================================\n",
    "Creating a timeline with lines, dates, and text\n",
    "===============================================\n",
    "\n",
    "How to create a simple timeline using Matplotlib release dates.\n",
    "\n",
    "Timelines can be created with a collection of dates and text. In this example,\n",
    "we show how to create a simple timeline using the dates for recent releases\n",
    "of Matplotlib. First, we'll pull the data from GitHub.\n"
   ]
  },
  {
   "cell_type": "code",
   "execution_count": 3,
   "metadata": {
    "collapsed": false
   },
   "outputs": [],
   "source": [
    "import matplotlib.pyplot as plt\n",
    "import numpy as np\n",
    "import matplotlib.dates as mdates\n",
    "from datetime import datetime\n",
    "\n",
    "try:\n",
    "    # Try to fetch a list of Matplotlib releases and their dates\n",
    "    # from https://api.github.com/repos/matplotlib/matplotlib/releases\n",
    "    import urllib.request\n",
    "    import json\n",
    "\n",
    "    url = 'https://api.github.com/repos/matplotlib/matplotlib/releases'\n",
    "    url += '?per_page=100'\n",
    "    data = json.loads(urllib.request.urlopen(url, timeout=.4).read().decode())\n",
    "\n",
    "    dates = []\n",
    "    names = []\n",
    "    for item in data:\n",
    "        if 'rc' not in item['tag_name'] and 'b' not in item['tag_name']:\n",
    "            dates.append(item['published_at'].split(\"T\")[0])\n",
    "            names.append(item['tag_name'])\n",
    "    # Convert date strings (e.g. 2014-10-18) to datetime\n",
    "    dates = [datetime.strptime(d, \"%Y-%m-%d\") for d in dates]\n",
    "\n",
    "except Exception:\n",
    "    # In case the above fails, e.g. because of missing internet connection\n",
    "    # use the following lists as fallback.\n",
    "    names = ['v2.2.4', 'v3.0.3', 'v3.0.2', 'v3.0.1', 'v3.0.0', 'v2.2.3',\n",
    "             'v2.2.2', 'v2.2.1', 'v2.2.0', 'v2.1.2', 'v2.1.1', 'v2.1.0',\n",
    "             'v2.0.2', 'v2.0.1', 'v2.0.0', 'v1.5.3', 'v1.5.2', 'v1.5.1',\n",
    "             'v1.5.0', 'v1.4.3', 'v1.4.2', 'v1.4.1', 'v1.4.0']\n",
    "\n",
    "    dates = ['2019-02-26', '2019-02-26', '2018-11-10', '2018-11-10',\n",
    "             '2018-09-18', '2018-08-10', '2018-03-17', '2018-03-16',\n",
    "             '2018-03-06', '2018-01-18', '2017-12-10', '2017-10-07',\n",
    "             '2017-05-10', '2017-05-02', '2017-01-17', '2016-09-09',\n",
    "             '2016-07-03', '2016-01-10', '2015-10-29', '2015-02-16',\n",
    "             '2014-10-26', '2014-10-18', '2014-08-26']\n",
    "\n",
    "    # Convert date strings (e.g. 2014-10-18) to datetime\n",
    "    dates = [datetime.strptime(d, \"%Y-%m-%d\") for d in dates]"
   ]
  },
  {
   "cell_type": "markdown",
   "metadata": {},
   "source": [
    "Next, we'll create a `~.Axes.stem` plot with some variation in levels as to\n",
    "distinguish even close-by events. In contrast to a usual stem plot, we will\n",
    "shift the markers to the baseline for visual emphasis on the one-dimensional\n",
    "nature of the time line.\n",
    "For each event, we add a text label via `~.Axes.annotate`, which is offset\n",
    "in units of points from the tip of the event line.\n",
    "\n",
    "Note that Matplotlib will automatically plot datetime inputs.\n",
    "\n"
   ]
  },
  {
   "cell_type": "code",
   "execution_count": 4,
   "metadata": {
    "collapsed": false
   },
   "outputs": [
    {
     "data": {
      "image/png": "[encoded data removed]",
      "text/plain": [
       "<Figure size 633.6x288 with 1 Axes>"
      ]
     },
     "metadata": {
      "needs_background": "light"
     },
     "output_type": "display_data"
    }
   ],
   "source": [
    "# Choose some nice levels\n",
    "levels = np.tile([-5, 5, -3, 3, -1, 1],\n",
    "                 int(np.ceil(len(dates)/6)))[:len(dates)]\n",
    "\n",
    "# Create figure and plot a stem plot with the date\n",
    "fig, ax = plt.subplots(figsize=(8.8, 4), constrained_layout=True)\n",
    "ax.set(title=\"Matplotlib release dates\")\n",
    "\n",
    "markerline, stemline, baseline = ax.stem(dates, levels,\n",
    "                                         linefmt=\"C3-\", basefmt=\"k-\",\n",
    "                                         use_line_collection=True)\n",
    "\n",
    "plt.setp(markerline, mec=\"k\", mfc=\"w\", zorder=3)\n",
    "\n",
    "# Shift the markers to the baseline by replacing the y-data by zeros.\n",
    "markerline.set_ydata(np.zeros(len(dates)))\n",
    "\n",
    "# annotate lines\n",
    "vert = np.array(['top', 'bottom'])[(levels > 0).astype(int)]\n",
    "for d, l, r, va in zip(dates, levels, names, vert):\n",
    "    ax.annotate(r, xy=(d, l), xytext=(-3, np.sign(l)*3),\n",
    "                textcoords=\"offset points\", va=va, ha=\"right\")\n",
    "\n",
    "# format xaxis with 4 month intervals\n",
    "ax.get_xaxis().set_major_locator(mdates.MonthLocator(interval=4))\n",
    "ax.get_xaxis().set_major_formatter(mdates.DateFormatter(\"%b %Y\"))\n",
    "plt.setp(ax.get_xticklabels(), rotation=30, ha=\"right\")\n",
    "\n",
    "# remove y axis and spines\n",
    "ax.get_yaxis().set_visible(False)\n",
    "for spine in [\"left\", \"top\", \"right\"]:\n",
    "    ax.spines[spine].set_visible(False)\n",
    "\n",
    "ax.margins(y=0.1)\n",
    "plt.show()"
   ]
  },
  {
   "cell_type": "markdown",
   "metadata": {},
   "source": [
    "------------\n",
    "\n",
    "References\n",
    "\"\"\"\"\"\"\"\"\"\"\n",
    "\n",
    "The use of the following functions, methods and classes is shown\n",
    "in this example:\n",
    "\n"
   ]
  },
  {
   "cell_type": "code",
   "execution_count": 2,
   "metadata": {
    "collapsed": false
   },
   "outputs": [
    {
     "data": {
      "text/plain": [
       "matplotlib.dates.DateFormatter"
      ]
     },
     "execution_count": 2,
     "metadata": {},
     "output_type": "execute_result"
    }
   ],
   "source": [
    "import matplotlib\n",
    "matplotlib.axes.Axes.stem\n",
    "matplotlib.axes.Axes.annotate\n",
    "matplotlib.axis.Axis.set_major_locator\n",
    "matplotlib.axis.Axis.set_major_formatter\n",
    "matplotlib.dates.MonthLocator\n",
    "matplotlib.dates.DateFormatter"
   ]
  },
  {
   "cell_type": "code",
   "execution_count": null,
   "metadata": {},
   "outputs": [],
   "source": []
  }
 ],
 "metadata": {
  "kernelspec": {
   "display_name": "Python 3",
   "language": "python",
   "name": "python3"
  },
  "language_info": {
   "codemirror_mode": {
    "name": "ipython",
    "version": 3
   },
   "file_extension": ".py",
   "mimetype": "text/x-python",
   "name": "python",
   "nbconvert_exporter": "python",
   "pygments_lexer": "ipython3",
   "version": "3.6.7"
  }
 },
 "nbformat": 4,
 "nbformat_minor": 2
}
