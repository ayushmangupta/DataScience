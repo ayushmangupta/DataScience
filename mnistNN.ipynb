{
  "nbformat": 4,
  "nbformat_minor": 0,
  "metadata": {
    "colab": {
      "name": "mnistNN.ipynb",
      "version": "0.3.2",
      "provenance": [],
      "collapsed_sections": [],
      "include_colab_link": true
    },
    "kernelspec": {
      "name": "python3",
      "display_name": "Python 3"
    },
    "accelerator": "GPU"
  },
  "cells": [
    {
      "cell_type": "markdown",
      "metadata": {
        "id": "view-in-github",
        "colab_type": "text"
      },
      "source": [
        "<a href=\"https://colab.research.google.com/github/ayushmangupta/DataScience/blob/master/mnistNN.ipynb\" target=\"_parent\"><img src=\"https://colab.research.google.com/assets/colab-badge.svg\" alt=\"Open In Colab\"/></a>"
      ]
    },
    {
      "cell_type": "code",
      "metadata": {
        "id": "0JsCMkE7CfQ4",
        "colab_type": "code",
        "colab": {
          "base_uri": "https://localhost:8080/",
          "height": 34
        },
        "outputId": "ddbde9ee-93fd-44da-cd04-679f70e11ef3"
      },
      "source": [
        "#!pip install tensorflow==2.0.0-beta1\n",
        "#!pip install \"tensorflow_hub==0.4.0\"\n",
        "%matplotlib inline\n",
        "\n",
        "import tensorflow_hub as hub\n",
        "import tensorflow as tf\n",
        "import matplotlib.pyplot as plt\n",
        "import numpy as np\n",
        "tfk = tf.keras\n",
        "tfkl = tf.keras.layers\n",
        "tf.__version__"
      ],
      "execution_count": 52,
      "outputs": [
        {
          "output_type": "execute_result",
          "data": {
            "text/plain": [
              "'2.0.0-beta1'"
            ]
          },
          "metadata": {
            "tags": []
          },
          "execution_count": 52
        }
      ]
    },
    {
      "cell_type": "code",
      "metadata": {
        "id": "mmCD8PW9CvYc",
        "colab_type": "code",
        "colab": {
          "base_uri": "https://localhost:8080/",
          "height": 71
        },
        "outputId": "0939ba70-c69d-414a-e079-e20c9b41295e"
      },
      "source": [
        "mnist = tf.keras.datasets.mnist\n",
        "\n",
        "(x_train, y_train), (x_test, y_test) = mnist.load_data()\n",
        "x_train, x_test = x_train / 255.0, x_test / 255.0"
      ],
      "execution_count": 2,
      "outputs": [
        {
          "output_type": "stream",
          "text": [
            "Downloading data from https://storage.googleapis.com/tensorflow/tf-keras-datasets/mnist.npz\n",
            "11493376/11490434 [==============================] - 0s 0us/step\n"
          ],
          "name": "stdout"
        }
      ]
    },
    {
      "cell_type": "code",
      "metadata": {
        "id": "fiNTKrsSJtdp",
        "colab_type": "code",
        "colab": {
          "base_uri": "https://localhost:8080/",
          "height": 269
        },
        "outputId": "d0375529-f54d-4b82-e865-6d0f80730ed0"
      },
      "source": [
        "for i in range(9):\n",
        "  plt.subplot('33'+str(i))\n",
        "  plt.imshow(x_train[i],cmap='binary')"
      ],
      "execution_count": 23,
      "outputs": [
        {
          "output_type": "display_data",
          "data": {
            "image/png": "[encoded data removed]",
            "text/plain": [
              "<Figure size 432x288 with 9 Axes>"
            ]
          },
          "metadata": {
            "tags": []
          }
        }
      ]
    },
    {
      "cell_type": "code",
      "metadata": {
        "id": "KUH1MhkeJtbd",
        "colab_type": "code",
        "colab": {}
      },
      "source": [
        ""
      ],
      "execution_count": 0,
      "outputs": []
    },
    {
      "cell_type": "code",
      "metadata": {
        "id": "XVhFQWSKDxZN",
        "colab_type": "code",
        "colab": {}
      },
      "source": [
        "model = tf.keras.Sequential([\n",
        "    tfkl.Flatten(input_shape=(28,28)),\n",
        "    tfkl.Dense(64,input_shape=(784,),activation=tf.nn.relu),\n",
        "    tfkl.BatchNormalization(),\n",
        "    tfkl.Dense(64,input_shape=(64,),activation=tf.nn.relu),\n",
        "    tfkl.Dropout(0.2),\n",
        "    tfkl.Dense(10,activation=tf.nn.softmax)\n",
        "    \n",
        "])\n",
        "\n",
        "\n",
        "model.compile(optimizer=tf.optimizers.Adam(),loss='sparse_categorical_crossentropy',metrics=['accuracy'])"
      ],
      "execution_count": 0,
      "outputs": []
    },
    {
      "cell_type": "code",
      "metadata": {
        "id": "WAhb6WN8GxRm",
        "colab_type": "code",
        "colab": {}
      },
      "source": [
        "model.fit(x_train,y_train,epochs=10)"
      ],
      "execution_count": 0,
      "outputs": []
    },
    {
      "cell_type": "code",
      "metadata": {
        "id": "dI8Coo4OEeYB",
        "colab_type": "code",
        "colab": {
          "base_uri": "https://localhost:8080/",
          "height": 71
        },
        "outputId": "52948068-b6df-4859-8e6c-0ae0f18ed4c2"
      },
      "source": [
        "model.evaluate(x_test,y_test)\n"
      ],
      "execution_count": 13,
      "outputs": [
        {
          "output_type": "stream",
          "text": [
            "10000/10000 [==============================] - 0s 37us/sample - loss: 0.0799 - accuracy: 0.9777\n"
          ],
          "name": "stdout"
        },
        {
          "output_type": "execute_result",
          "data": {
            "text/plain": [
              "[0.07985967071969062, 0.9777]"
            ]
          },
          "metadata": {
            "tags": []
          },
          "execution_count": 13
        }
      ]
    },
    {
      "cell_type": "code",
      "metadata": {
        "id": "ZWIVqSFSE8mv",
        "colab_type": "code",
        "colab": {}
      },
      "source": [
        ""
      ],
      "execution_count": 0,
      "outputs": []
    },
    {
      "cell_type": "markdown",
      "metadata": {
        "id": "evhHSBXJMLmz",
        "colab_type": "text"
      },
      "source": [
        "**Tf data**"
      ]
    },
    {
      "cell_type": "code",
      "metadata": {
        "id": "Qn4wLr2ZMPkK",
        "colab_type": "code",
        "colab": {}
      },
      "source": [
        "# from tensor slices\n",
        "d1s = tf.data.Dataset.from_tensor_slices(tf.range(10.0))\n",
        "d2 = tf.data.Dataset.from_tensor_slices((tf.range(10.0),tf.range(10.0,20.0)))\n",
        "\n",
        "\n",
        "#dataset3 = tf.data.Dataset.from_tensor_slices((tf.range(10), tf.arange(5)))\n",
        "# Dataset not possible as zeroth dimenion is different at 10 and 5\n"
      ],
      "execution_count": 0,
      "outputs": []
    },
    {
      "cell_type": "code",
      "metadata": {
        "id": "M0dXHWG9MdHM",
        "colab_type": "code",
        "colab": {}
      },
      "source": [
        "#From tensors\n",
        "#Just like from_tensor_slices, this method also accepts individual (or multiple) Numpy (or Tensors) objects. But this method doesn’t support batching of data, i.e all the data will be given out instantly.\n",
        "#This method is useful in cases where dataset is very small or your learning model needs all the data at once.\n",
        "\n",
        "dt1 = tf.data.Dataset.from_tensors(tf.range(50))\n",
        "dt2 = tf.data.Dataset.from_tensors((tf.range(30, 45, 3), np.arange(60, 70, 2)))\n",
        "\n",
        "dataset3 = tf.data.Dataset.from_tensors((tf.range(10), np.arange(5)))\n",
        "# Possible with from_tensors, regardless of zeroth dimension mismatch of constituent elements.\n",
        "# Emits data of ([1, 2, 3, 4, 5, 6, 7, 8, 9], [0, 1, 2, 3, 4])\n"
      ],
      "execution_count": 0,
      "outputs": []
    },
    {
      "cell_type": "code",
      "metadata": {
        "id": "041Lgu6TMqqS",
        "colab_type": "code",
        "colab": {}
      },
      "source": [
        "# from generator\n",
        "\n",
        "def generator(seq_type):\n",
        "  if seq_type == 1:\n",
        "    for i in range(5):\n",
        "      yield i*2\n",
        "      \n",
        "  elif seq_type == 2:\n",
        "    for i in range(10):\n",
        "      yield (i*3 , i**2)\n",
        "      \n",
        "  \n",
        "  elif seq_type == 3:\n",
        "    for i in range(1,4):\n",
        "      yield (i,[\"i\"]*i)\n",
        "      \n",
        "\n",
        "      \n",
        "d1 = tf.data.Dataset.from_generator(generator,(tf.int32),args=([2]))"
      ],
      "execution_count": 0,
      "outputs": []
    },
    {
      "cell_type": "code",
      "metadata": {
        "id": "1OD3WWhKRLMD",
        "colab_type": "code",
        "colab": {
          "base_uri": "https://localhost:8080/",
          "height": 34
        },
        "outputId": "d3a8bd8e-da53-4515-c2ef-d68fd91179f6"
      },
      "source": [
        "list(generator(3))"
      ],
      "execution_count": 47,
      "outputs": [
        {
          "output_type": "execute_result",
          "data": {
            "text/plain": [
              "[(1, ['i']), (2, ['i', 'i']), (3, ['i', 'i', 'i'])]"
            ]
          },
          "metadata": {
            "tags": []
          },
          "execution_count": 47
        }
      ]
    },
    {
      "cell_type": "code",
      "metadata": {
        "id": "Rcaq-PUtRcge",
        "colab_type": "code",
        "colab": {}
      },
      "source": [
        "\n"
      ],
      "execution_count": 0,
      "outputs": []
    },
    {
      "cell_type": "markdown",
      "metadata": {
        "id": "cBJJSmwmSPkb",
        "colab_type": "text"
      },
      "source": [
        "**Transformation**\n",
        "- Batch\n",
        "- Map\n",
        "- Shuffle\n",
        "- Filter\n",
        "- Repeat"
      ]
    },
    {
      "cell_type": "code",
      "metadata": {
        "id": "EUYxO_CSScd5",
        "colab_type": "code",
        "colab": {
          "base_uri": "https://localhost:8080/",
          "height": 34
        },
        "outputId": "5d445674-c391-40e1-9724-ad2c4dacf453"
      },
      "source": [
        "d1s"
      ],
      "execution_count": 53,
      "outputs": [
        {
          "output_type": "execute_result",
          "data": {
            "text/plain": [
              "<TensorSliceDataset shapes: (), types: tf.float32>"
            ]
          },
          "metadata": {
            "tags": []
          },
          "execution_count": 53
        }
      ]
    },
    {
      "cell_type": "code",
      "metadata": {
        "id": "iHWp0xGOTM2I",
        "colab_type": "code",
        "colab": {
          "base_uri": "https://localhost:8080/",
          "height": 88
        },
        "outputId": "040f718e-6071-4972-ea7c-89402631bc64"
      },
      "source": [
        "\n",
        "d1s.repeat(2)\n",
        "list(d1s.shuffle(5))\n",
        "\n",
        "def map_fu(x):\n",
        "  return x*4\n",
        "\n",
        "\n",
        "list(d1s.map(map_fu))\n",
        "\n",
        "list(d1s.batch(4))"
      ],
      "execution_count": 63,
      "outputs": [
        {
          "output_type": "execute_result",
          "data": {
            "text/plain": [
              "[<tf.Tensor: id=404288, shape=(4,), dtype=float32, numpy=array([0., 1., 2., 3.], dtype=float32)>,\n",
              " <tf.Tensor: id=404289, shape=(4,), dtype=float32, numpy=array([4., 5., 6., 7.], dtype=float32)>,\n",
              " <tf.Tensor: id=404290, shape=(2,), dtype=float32, numpy=array([8., 9.], dtype=float32)>]"
            ]
          },
          "metadata": {
            "tags": []
          },
          "execution_count": 63
        }
      ]
    },
    {
      "cell_type": "code",
      "metadata": {
        "id": "Zh6vWqsCTP_j",
        "colab_type": "code",
        "colab": {}
      },
      "source": [
        "def filter_func(x):\n",
        "  return tf.reshape(tf.not_equal(x%5,1),[])"
      ],
      "execution_count": 0,
      "outputs": []
    },
    {
      "cell_type": "code",
      "metadata": {
        "id": "-TKKo8BmWxsm",
        "colab_type": "code",
        "colab": {
          "base_uri": "https://localhost:8080/",
          "height": 153
        },
        "outputId": "5eabc1cf-176a-4cc5-8347-4c7620d4f688"
      },
      "source": [
        "list(d1s.filter(filter_func))"
      ],
      "execution_count": 82,
      "outputs": [
        {
          "output_type": "execute_result",
          "data": {
            "text/plain": [
              "[<tf.Tensor: id=404441, shape=(), dtype=float32, numpy=0.0>,\n",
              " <tf.Tensor: id=404442, shape=(), dtype=float32, numpy=2.0>,\n",
              " <tf.Tensor: id=404443, shape=(), dtype=float32, numpy=3.0>,\n",
              " <tf.Tensor: id=404444, shape=(), dtype=float32, numpy=4.0>,\n",
              " <tf.Tensor: id=404445, shape=(), dtype=float32, numpy=5.0>,\n",
              " <tf.Tensor: id=404446, shape=(), dtype=float32, numpy=7.0>,\n",
              " <tf.Tensor: id=404447, shape=(), dtype=float32, numpy=8.0>,\n",
              " <tf.Tensor: id=404448, shape=(), dtype=float32, numpy=9.0>]"
            ]
          },
          "metadata": {
            "tags": []
          },
          "execution_count": 82
        }
      ]
    },
    {
      "cell_type": "code",
      "metadata": {
        "id": "kcpGCorzm8DZ",
        "colab_type": "code",
        "colab": {}
      },
      "source": [
        "import gym"
      ],
      "execution_count": 0,
      "outputs": []
    },
    {
      "cell_type": "code",
      "metadata": {
        "id": "3R7z86nRnAmX",
        "colab_type": "code",
        "colab": {
          "base_uri": "https://localhost:8080/",
          "height": 34
        },
        "outputId": "c65a22ae-d2a3-43e2-a05a-b970eed26cfc"
      },
      "source": [
        ""
      ],
      "execution_count": 12,
      "outputs": [
        {
          "output_type": "execute_result",
          "data": {
            "text/plain": [
              "array([-0.01884262, -0.02749699, -0.0396476 , -0.00283798])"
            ]
          },
          "metadata": {
            "tags": []
          },
          "execution_count": 12
        }
      ]
    },
    {
      "cell_type": "code",
      "metadata": {
        "id": "zAPkkufvW03W",
        "colab_type": "code",
        "colab": {}
      },
      "source": [
        "class ProbabilityDistribution(tf.keras.Model):\n",
        "  def call(self,logits):\n",
        "    print(logits)\n",
        "    return tf.squeeze(tf.random.categorical(logits,1),axis=-1)\n",
        "    \n",
        "    \n",
        "\n",
        "\n",
        "class Model(tf.keras.Model):\n",
        "  \n",
        "  def __init__(self,num_action):\n",
        "    super().__init__('mlp_policy')\n",
        "    self.hidden1 = tfkl.Dense(128,activation=tf.nn.relu)\n",
        "    self.hidden2 = tfkl.Dense(128,activation=tf.nn.relu)\n",
        "    self.value = tfkl.Dense(1,name= 'value')\n",
        "    \n",
        "    self.logits = tfkl.Dense(num_action, name=\"policy_logits\")\n",
        "    \n",
        "    self.dist = ProbabilityDistribution()\n",
        " \n",
        "\n",
        "\n",
        "\n",
        "  def call(self, inputs):\n",
        "        # inputs is a numpy array, convert to Tensor\n",
        "        x = tf.convert_to_tensor(inputs, dtype=tf.float32)\n",
        "        # separate hidden layers from the same input tensor\n",
        "        hidden_logs = self.hidden1(x)\n",
        "        hidden_vals = self.hidden2(x)\n",
        "        return self.logits(hidden_logs), self.value(hidden_vals)\n",
        "  \n",
        "  \n",
        "  def action_value(self, obs):\n",
        "        print(obs)\n",
        "        # executes call() under the hood\n",
        "        logits, value = self.predict(obs)\n",
        "        action = self.dist.predict(logits)\n",
        "        # a simpler option, will become clear later why we don't use it\n",
        "        # action = tf.random.categorical(logits, 1)\n",
        "        return np.squeeze(action, axis=-1), np.squeeze(value, axis=-1)\n",
        " "
      ],
      "execution_count": 0,
      "outputs": []
    },
    {
      "cell_type": "code",
      "metadata": {
        "id": "pil4A8csZXuh",
        "colab_type": "code",
        "colab": {
          "base_uri": "https://localhost:8080/",
          "height": 68
        },
        "outputId": "7382cc74-bbee-4906-972d-d39e41456549"
      },
      "source": [
        "env = gym.make('CartPole-v0')\n",
        "model = Model(num_action=env.action_space.n)\n",
        "obs = env.reset()\n",
        "action, value  = model.action_value(obs[None,:])\n",
        "print(action, value)"
      ],
      "execution_count": 58,
      "outputs": [
        {
          "output_type": "stream",
          "text": [
            "[[ 0.02620837  0.04462336 -0.02533009 -0.04167841]]\n",
            "Tensor(\"input_1_8:0\", shape=(None, 2), dtype=float32)\n",
            "1 [0.00486272]\n"
          ],
          "name": "stdout"
        }
      ]
    },
    {
      "cell_type": "code",
      "metadata": {
        "id": "WlKc-a_Qp-h0",
        "colab_type": "code",
        "colab": {}
      },
      "source": [
        ""
      ],
      "execution_count": 0,
      "outputs": []
    },
    {
      "cell_type": "code",
      "metadata": {
        "id": "ahi7ndn-qbYX",
        "colab_type": "code",
        "colab": {}
      },
      "source": [
        ""
      ],
      "execution_count": 0,
      "outputs": []
    },
    {
      "cell_type": "code",
      "metadata": {
        "id": "S_HVgn_fqcHV",
        "colab_type": "code",
        "colab": {}
      },
      "source": [
        ""
      ],
      "execution_count": 0,
      "outputs": []
    }
  ]
}